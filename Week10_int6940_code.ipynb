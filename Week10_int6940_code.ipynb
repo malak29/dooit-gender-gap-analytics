{
 "cells": [
  {
   "cell_type": "code",
   "execution_count": 15,
   "metadata": {},
   "outputs": [
    {
     "name": "stderr",
     "output_type": "stream",
     "text": [
      "/var/folders/d5/qv1hfsjx16d54flsx7nx5hwr0000gn/T/ipykernel_53081/260586810.py:5: DtypeWarning: Columns (2,5,8,9,10,11,18,19,20,26,32,33,34,35,36,50,51,67,68,69,72,73,74,75,76,77,78,79,80,81,84,90,96,97,98,99,101,104,105,106,107,108,109,110,111,112,113,116,122,128,129,130,131,133,136,137,138,139,140,141,142,143,144,145,148,154,160,161,162,165,168,169,170,171,172,173,174,175,177,180,186,192,208,214,220,225,231,237,238,239,240,241) have mixed types. Specify dtype option on import or set low_memory=False.\n",
      "  df = pd.read_csv('research_2023.csv')\n"
     ]
    },
    {
     "name": "stdout",
     "output_type": "stream",
     "text": [
      "Total unique manufacturers: 682\n",
      "Unique manufacturers saved to 'unique_manufacturers.txt'\n"
     ]
    }
   ],
   "source": [
    "import pandas as pd\n",
    "\n",
    "# Read the dataset\n",
    "# Replace 'your_dataset.csv' with the actual path to your dataset file\n",
    "df = pd.read_csv('research_2023.csv')\n",
    "\n",
    "# Get unique values of the specified column\n",
    "unique_manufacturers = df['Submitting_Applicable_Manufacturer_or_Applicable_GPO_Name'].unique()\n",
    "\n",
    "# Sort the unique values\n",
    "unique_manufacturers.sort()\n",
    "\n",
    "# Save to a text file\n",
    "with open('unique_manufacturers_o23.txt', 'w', encoding='utf-8') as f:\n",
    "    for manufacturer in unique_manufacturers:\n",
    "        f.write(f\"{manufacturer}\\n\")\n",
    "\n",
    "# Alternative method using numpy\n",
    "import numpy as np\n",
    "np.savetxt('unique_manufacturers_alt_o23.txt', \n",
    "           unique_manufacturers, \n",
    "           fmt='%s', \n",
    "           encoding='utf-8')\n",
    "\n",
    "# Print confirmation\n",
    "print(f\"Total unique manufacturers: {len(unique_manufacturers)}\")\n",
    "print(\"Unique manufacturers saved to 'unique_manufacturers.txt'\")"
   ]
  },
  {
   "cell_type": "code",
   "execution_count": 16,
   "metadata": {},
   "outputs": [
    {
     "name": "stdout",
     "output_type": "stream",
     "text": [
      "Submitting_Applicable_Manufacturer_or_Applicable_GPO_Name\n",
      "ABBVIE INC.                                      31434\n",
      "Abbott Laboratories                              11886\n",
      "Medtronic, Inc.                                   9598\n",
      "Boston Scientific Corporation                     6611\n",
      "Zimmer Biomet Holdings, Inc.                       817\n",
      "Stryker Corporation                                722\n",
      "Siemens Medical Solutions USA, Inc.                323\n",
      "Philips Electronics North America Corporation      279\n",
      "Arthrex, Inc.                                      268\n",
      "Becton, Dickinson and Company                      205\n",
      "Baxter Healthcare                                   92\n",
      "3M Company                                          12\n",
      "Name: count, dtype: int64\n",
      "\n",
      "Total count of matching companies: 62247\n",
      "\n",
      "Companies not found in the DataFrame:\n",
      "Johnson & Johnson\n",
      "Olympus\n",
      "GE Healthcare\n",
      "Alcon Inc.\n",
      "Intuitive Surgical, Inc.\n",
      "Fresenius Medical Care\n",
      "B. Braun\n",
      "Fujifilm Holdings Corporation\n"
     ]
    }
   ],
   "source": [
    "import pandas as pd\n",
    "\n",
    "# Assuming your DataFrame is named 'df' and the column name is 'Submitting_Applicable_Manufacturer_or_Applicable_GPO_Name'\n",
    "# If the column name is different, replace it in the code below\n",
    "\n",
    "companies = [\n",
    "    'Zimmer Biomet Holdings, Inc.', 'Medtronic, Inc.', 'Johnson & Johnson', 'Stryker Corporation', \n",
    "    'Abbott Laboratories', 'Boston Scientific Corporation', 'Intuitive Surgical, Inc.', 'Siemens Medical Solutions USA, Inc.', \n",
    "    'Becton, Dickinson and Company', 'Philips Electronics North America Corporation', 'Baxter Healthcare', '3M Company',\n",
    "    'Alcon Inc.', 'Olympus', 'B. Braun', 'GE Healthcare', 'Fresenius Medical Care', 'Fujifilm Holdings Corporation', 'ABBVIE INC.', 'Arthrex, Inc.'\n",
    "]\n",
    "\n",
    "# Filter the DataFrame to include only the companies in the list\n",
    "filtered_df = df[df['Submitting_Applicable_Manufacturer_or_Applicable_GPO_Name'].isin(companies)]\n",
    "\n",
    "# Count the occurrences of each company\n",
    "company_counts = filtered_df['Submitting_Applicable_Manufacturer_or_Applicable_GPO_Name'].value_counts()\n",
    "\n",
    "# Print the results\n",
    "print(company_counts)\n",
    "\n",
    "# Get the total count of matching companies\n",
    "total_count = company_counts.sum()\n",
    "print(f\"\\nTotal count of matching companies: {total_count}\")\n",
    "\n",
    "# Check which companies from the list are not present in the DataFrame\n",
    "missing_companies = set(companies) - set(company_counts.index)\n",
    "print(\"\\nCompanies not found in the DataFrame:\")\n",
    "for company in missing_companies:\n",
    "    print(company)"
   ]
  }
 ],
 "metadata": {
  "kernelspec": {
   "display_name": "Python 3",
   "language": "python",
   "name": "python3"
  },
  "language_info": {
   "codemirror_mode": {
    "name": "ipython",
    "version": 3
   },
   "file_extension": ".py",
   "mimetype": "text/x-python",
   "name": "python",
   "nbconvert_exporter": "python",
   "pygments_lexer": "ipython3",
   "version": "3.11.5"
  },
  "orig_nbformat": 4
 },
 "nbformat": 4,
 "nbformat_minor": 2
}
