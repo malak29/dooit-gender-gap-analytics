{
 "cells": [
  {
   "cell_type": "code",
   "execution_count": 1,
   "metadata": {},
   "outputs": [
    {
     "name": "stderr",
     "output_type": "stream",
     "text": [
      "/var/folders/d5/qv1hfsjx16d54flsx7nx5hwr0000gn/T/ipykernel_80553/3525843159.py:3: DtypeWarning: Columns (5,34,37,40,41,42,43,44,45,46,47,48,49,52,58,64,65,66,208,215,216,217,218,221,222,223,224,227,228,229,230,250) have mixed types. Specify dtype option on import or set low_memory=False.\n",
      "  r1payments = pd.read_csv('cleaned_dataset/research_2021.csv')\n",
      "/var/folders/d5/qv1hfsjx16d54flsx7nx5hwr0000gn/T/ipykernel_80553/3525843159.py:7: DtypeWarning: Columns (7,29,30,31,32,33,34,35,36,37,38,39,40) have mixed types. Specify dtype option on import or set low_memory=False.\n",
      "  g1payments = pd.read_csv('cleaned_dataset/general_2021.csv')\n",
      "/var/folders/d5/qv1hfsjx16d54flsx7nx5hwr0000gn/T/ipykernel_80553/3525843159.py:8: DtypeWarning: Columns (2,7,22,23,29,30,31,32,33,34,35,36,37,38,39,40) have mixed types. Specify dtype option on import or set low_memory=False.\n",
      "  g2payments = pd.read_csv('cleaned_dataset/general_2022.csv')\n",
      "/var/folders/d5/qv1hfsjx16d54flsx7nx5hwr0000gn/T/ipykernel_80553/3525843159.py:9: DtypeWarning: Columns (2,7,22,23,29,30,31,32,33,34,35,36,37,38,39,40) have mixed types. Specify dtype option on import or set low_memory=False.\n",
      "  g3payments = pd.read_csv('cleaned_dataset/general_2023.csv')\n"
     ]
    }
   ],
   "source": [
    "import pandas as pd\n",
    "\n",
    "r1payments = pd.read_csv('cleaned_dataset/research_2021.csv')\n",
    "r2payments = pd.read_csv('cleaned_dataset/research_2022.csv')\n",
    "r3payments = pd.read_csv('cleaned_dataset/research_2023.csv')\n",
    "\n",
    "g1payments = pd.read_csv('cleaned_dataset/general_2021.csv')\n",
    "g2payments = pd.read_csv('cleaned_dataset/general_2022.csv')\n",
    "g3payments = pd.read_csv('cleaned_dataset/general_2023.csv')"
   ]
  },
  {
   "cell_type": "code",
   "execution_count": 3,
   "metadata": {},
   "outputs": [
    {
     "name": "stdout",
     "output_type": "stream",
     "text": [
      "['Covered Recipient Physician'\n",
      " 'Covered Recipient Non-Physician Practitioner']\n",
      "['Covered Recipient Physician'\n",
      " 'Covered Recipient Non-Physician Practitioner']\n",
      "['Covered Recipient Physician'\n",
      " 'Covered Recipient Non-Physician Practitioner']\n"
     ]
    }
   ],
   "source": [
    "print(g1payments['Covered_Recipient_Type'].unique())\n",
    "print(g2payments['Covered_Recipient_Type'].unique())\n",
    "print(g3payments['Covered_Recipient_Type'].unique())"
   ]
  },
  {
   "cell_type": "code",
   "execution_count": 4,
   "metadata": {},
   "outputs": [
    {
     "name": "stdout",
     "output_type": "stream",
     "text": [
      "['Covered Recipient Physician' 'Covered Recipient Teaching Hospital'\n",
      " 'Covered Recipient Non-Physician Practitioner']\n",
      "['Covered Recipient Physician'\n",
      " 'Covered Recipient Non-Physician Practitioner']\n",
      "['Covered Recipient Non-Physician Practitioner'\n",
      " 'Covered Recipient Physician']\n"
     ]
    }
   ],
   "source": [
    "print(r1payments['Covered_Recipient_Type'].unique())\n",
    "print(r2payments['Covered_Recipient_Type'].unique())\n",
    "print(r3payments['Covered_Recipient_Type'].unique())"
   ]
  },
  {
   "cell_type": "code",
   "execution_count": 5,
   "metadata": {},
   "outputs": [
    {
     "name": "stdout",
     "output_type": "stream",
     "text": [
      "['Medical Doctor' 'Doctor of Osteopathy' 'Nurse Practitioner'\n",
      " 'Physician Assistant' 'Doctor of Podiatric Medicine'\n",
      " 'Doctor of Dentistry' 'Doctor of Optometry' 'Chiropractor'\n",
      " 'Clinical Nurse Specialist' 'Certified Registered Nurse Anesthetist'\n",
      " 'Certified Nurse-Midwife' 'Anesthesiologist Assistant']\n",
      "['Medical Doctor' 'Doctor of Osteopathy' 'Nurse Practitioner'\n",
      " 'Physician Assistant' 'Doctor of Dentistry'\n",
      " 'Certified Registered Nurse Anesthetist' 'Certified Nurse-Midwife'\n",
      " 'Clinical Nurse Specialist' 'Doctor of Podiatric Medicine'\n",
      " 'Anesthesiologist Assistant' 'Doctor of Optometry' 'Chiropractor']\n",
      "['Medical Doctor' 'Nurse Practitioner' 'Physician Assistant'\n",
      " 'Clinical Nurse Specialist' 'Doctor of Dentistry'\n",
      " 'Doctor of Podiatric Medicine' 'Certified Registered Nurse Anesthetist'\n",
      " 'Chiropractor' 'Certified Nurse-Midwife' 'Doctor of Optometry'\n",
      " 'Doctor of Osteopathy' 'Anesthesiologist Assistant']\n"
     ]
    }
   ],
   "source": [
    "print(g1payments['Covered_Recipient_Primary_Type_1'].unique())\n",
    "print(g2payments['Covered_Recipient_Primary_Type_1'].unique())\n",
    "print(g3payments['Covered_Recipient_Primary_Type_1'].unique())"
   ]
  },
  {
   "cell_type": "code",
   "execution_count": 6,
   "metadata": {},
   "outputs": [
    {
     "name": "stdout",
     "output_type": "stream",
     "text": [
      "['Doctor of Optometry' 'Medical Doctor' nan 'Doctor of Osteopathy'\n",
      " 'Doctor of Dentistry' 'Physician Assistant'\n",
      " 'Doctor of Podiatric Medicine' 'Nurse Practitioner']\n",
      "['Medical Doctor' 'Doctor of Optometry' 'Doctor of Osteopathy'\n",
      " 'Doctor of Podiatric Medicine' 'Nurse Practitioner' 'Physician Assistant'\n",
      " 'Doctor of Dentistry']\n",
      "['Nurse Practitioner' 'Doctor of Osteopathy' 'Medical Doctor'\n",
      " 'Doctor of Optometry' 'Physician Assistant'\n",
      " 'Doctor of Podiatric Medicine']\n"
     ]
    }
   ],
   "source": [
    "print(r1payments['Covered_Recipient_Primary_Type_1'].unique())\n",
    "print(r2payments['Covered_Recipient_Primary_Type_1'].unique())\n",
    "print(r3payments['Covered_Recipient_Primary_Type_1'].unique())"
   ]
  },
  {
   "cell_type": "code",
   "execution_count": 7,
   "metadata": {},
   "outputs": [
    {
     "name": "stdout",
     "output_type": "stream",
     "text": [
      "['Consulting Fee' 'Acquisitions' 'Travel and Lodging' 'Food and Beverage'\n",
      " 'Royalty or License' 'Debt forgiveness'\n",
      " 'Compensation for services other than consulting, including serving as faculty or as a speaker at a venue other than a continuing education program'\n",
      " 'Education' 'Grant' 'Gift' 'Honoraria' 'Entertainment'\n",
      " 'Long term medical supply or device loan'\n",
      " 'Compensation for serving as faculty or as a speaker for a medical education program']\n",
      "['Food and Beverage' 'Travel and Lodging'\n",
      " 'Compensation for services other than consulting, including serving as faculty or as a speaker at a venue other than a continuing education program'\n",
      " 'Consulting Fee' 'Education' 'Debt forgiveness' 'Royalty or License'\n",
      " 'Grant' 'Acquisitions'\n",
      " 'Compensation for serving as faculty or as a speaker for a medical education program'\n",
      " 'Gift' 'Entertainment' 'Honoraria']\n",
      "['Food and Beverage' 'Travel and Lodging' 'Royalty or License'\n",
      " 'Consulting Fee' 'Education' 'Long term medical supply or device loan'\n",
      " 'Debt forgiveness'\n",
      " 'Compensation for services other than consulting, including serving as faculty or as a speaker at a venue other than a continuing education program'\n",
      " 'Grant' 'Acquisitions' 'Gift' 'Honoraria'\n",
      " 'Compensation for serving as faculty or as a speaker for a medical education program']\n"
     ]
    }
   ],
   "source": [
    "print(g1payments['Nature_of_Payment_or_Transfer_of_Value'].unique())\n",
    "print(g2payments['Nature_of_Payment_or_Transfer_of_Value'].unique())\n",
    "print(g3payments['Nature_of_Payment_or_Transfer_of_Value'].unique())\n"
   ]
  },
  {
   "cell_type": "code",
   "execution_count": 8,
   "metadata": {},
   "outputs": [
    {
     "name": "stdout",
     "output_type": "stream",
     "text": [
      "['Cash or cash equivalent' 'In-kind items and services']\n",
      "['In-kind items and services' 'Cash or cash equivalent']\n",
      "['In-kind items and services' 'Cash or cash equivalent']\n"
     ]
    }
   ],
   "source": [
    "print(g1payments['Form_of_Payment_or_Transfer_of_Value'].unique())\n",
    "print(g2payments['Form_of_Payment_or_Transfer_of_Value'].unique())\n",
    "print(g3payments['Form_of_Payment_or_Transfer_of_Value'].unique())"
   ]
  },
  {
   "cell_type": "code",
   "execution_count": 9,
   "metadata": {},
   "outputs": [
    {
     "name": "stdout",
     "output_type": "stream",
     "text": [
      "['M' 'F']\n",
      "['M' 'F']\n",
      "['M' 'F']\n"
     ]
    }
   ],
   "source": [
    "print(g1payments['Gender'].unique())\n",
    "print(g2payments['Gender'].unique())\n",
    "print(g3payments['Gender'].unique())"
   ]
  },
  {
   "cell_type": "code",
   "execution_count": 10,
   "metadata": {},
   "outputs": [
    {
     "name": "stdout",
     "output_type": "stream",
     "text": [
      "['M' 'F']\n",
      "['M' 'F']\n",
      "['F' 'M']\n"
     ]
    }
   ],
   "source": [
    "print(r1payments['Gender'].unique())\n",
    "print(r2payments['Gender'].unique())\n",
    "print(r3payments['Gender'].unique())"
   ]
  },
  {
   "cell_type": "code",
   "execution_count": 11,
   "metadata": {},
   "outputs": [
    {
     "name": "stdout",
     "output_type": "stream",
     "text": [
      "['Alcon Inc.' 'ABBVIE INC.' 'Medtronic, Inc.' '3M Company'\n",
      " 'Abbott Laboratories' 'Zimmer Biomet Holdings, Inc.'\n",
      " 'Siemens Medical Solutions USA, Inc.' 'Stryker Corporation'\n",
      " 'Becton, Dickinson and Company' 'Boston Scientific Corporation'\n",
      " 'Arthrex, Inc.' 'GE HEALTHCARE' 'Intuitive Surgical, Inc.'\n",
      " 'B. Braun Medical Inc.' 'GE Healthcare'\n",
      " 'Philips Electronics North America Corporation']\n",
      "['Alcon Inc.' 'Medtronic, Inc.' 'ABBVIE INC.' 'Johnson & Johnson'\n",
      " 'Philips Electronics North America Corporation' 'Arthrex, Inc.'\n",
      " 'Zimmer Biomet Holdings, Inc.' 'Intuitive Surgical, Inc.'\n",
      " 'Boston Scientific Corporation' 'Stryker Corporation'\n",
      " 'Becton, Dickinson and Company' 'Fujifilm Holdings Corporation'\n",
      " '3M Company']\n",
      "['AbbVie Inc.' 'Medtronic, Inc.' 'Alcon Inc.'\n",
      " 'Zimmer Biomet Holdings, Inc.' 'Stryker Corporation'\n",
      " 'Becton, Dickinson and Company' 'Arthrex, Inc.'\n",
      " 'Philips Electronics North America Corporation' 'Johnson & Johnson'\n",
      " 'Boston Scientific Corporation' 'Abbott Laboratories'\n",
      " 'Fujifilm Holdings Corporation']\n"
     ]
    }
   ],
   "source": [
    "print(r1payments['Submitting_Applicable_Manufacturer_or_Applicable_GPO_Name'].unique())\n",
    "print(r2payments['Submitting_Applicable_Manufacturer_or_Applicable_GPO_Name'].unique())\n",
    "print(r3payments['Submitting_Applicable_Manufacturer_or_Applicable_GPO_Name'].unique())"
   ]
  },
  {
   "cell_type": "code",
   "execution_count": 12,
   "metadata": {},
   "outputs": [
    {
     "name": "stdout",
     "output_type": "stream",
     "text": [
      "['DePuy Synthes Sales Inc.' 'Johnson & Johnson' 'Alcon Inc.'\n",
      " 'Baxter Healthcare' 'Boston Scientific Corporation' 'Medtronic, Inc.'\n",
      " 'Arthrex, Inc.' 'Stryker Corporation' 'Smith+Nephew, Inc.' '3M Company'\n",
      " 'Siemens Medical Solutions USA, Inc.' 'Zimmer Biomet Holdings, Inc.'\n",
      " 'Philips Electronics North America Corporation' 'Abbott Laboratories'\n",
      " 'ENCORE MEDICAL, LP' 'Intuitive Surgical, Inc.' 'Olympus' 'ABBVIE INC.']\n",
      "['Medtronic, Inc.' 'Olympus' 'Baxter Healthcare' 'ABBVIE INC.'\n",
      " 'Johnson & Johnson' 'DePuy Synthes Sales Inc.'\n",
      " 'Boston Scientific Corporation' 'Abbott Laboratories' 'Alcon Inc.'\n",
      " 'Siemens Medical Solutions USA, Inc.'\n",
      " 'Philips Electronics North America Corporation' 'Arthrex, Inc.'\n",
      " 'Zimmer Biomet Holdings, Inc.' 'Stryker Corporation' 'LivaNova USA, Inc.'\n",
      " 'Smith+Nephew, Inc.' '3M Company' 'Intuitive Surgical, Inc.'\n",
      " 'ENCORE MEDICAL, LP']\n",
      "['Baxter Healthcare' 'ABBVIE INC.' 'Alcon Inc.' 'DePuy Synthes Sales Inc.'\n",
      " 'Johnson & Johnson' 'ATRICURE, INC.' 'Olympus' 'Stryker Corporation'\n",
      " 'Philips Electronics North America Corporation' 'Abbott Laboratories'\n",
      " 'Boston Scientific Corporation' 'Siemens Medical Solutions USA, Inc.'\n",
      " 'LivaNova USA, Inc.' 'Medtronic, Inc.' 'Smith+Nephew, Inc.'\n",
      " 'ENCORE MEDICAL, LP' 'Arthrex, Inc.' 'Zimmer Biomet Holdings, Inc.'\n",
      " 'Intuitive Surgical, Inc.' '3M Company']\n"
     ]
    }
   ],
   "source": [
    "print(g1payments['Submitting_Applicable_Manufacturer_or_Applicable_GPO_Name'].unique())\n",
    "print(g2payments['Submitting_Applicable_Manufacturer_or_Applicable_GPO_Name'].unique())\n",
    "print(g3payments['Submitting_Applicable_Manufacturer_or_Applicable_GPO_Name'].unique())"
   ]
  }
 ],
 "metadata": {
  "kernelspec": {
   "display_name": "Python 3",
   "language": "python",
   "name": "python3"
  },
  "language_info": {
   "codemirror_mode": {
    "name": "ipython",
    "version": 3
   },
   "file_extension": ".py",
   "mimetype": "text/x-python",
   "name": "python",
   "nbconvert_exporter": "python",
   "pygments_lexer": "ipython3",
   "version": "3.11.5"
  },
  "orig_nbformat": 4
 },
 "nbformat": 4,
 "nbformat_minor": 2
}
