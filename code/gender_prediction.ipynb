{
 "cells": [
  {
   "cell_type": "code",
   "execution_count": 1,
   "metadata": {},
   "outputs": [
    {
     "name": "stderr",
     "output_type": "stream",
     "text": [
      "/var/folders/d5/qv1hfsjx16d54flsx7nx5hwr0000gn/T/ipykernel_98969/1898315315.py:3: DtypeWarning: Columns (4,8,10,12,15,17,18,20,21,22,23,24,26,27,28,32,33,34,35,39,46,47,48,49,51,52,53,54,60,61,62,63,64,65,66,67,68,69,70,71,72,73,74,75,76,77,78,79,80,81,82,83,84,85,86,87,88) have mixed types. Specify dtype option on import or set low_memory=False.\n",
      "  df = pd.read_csv(\"Open_Payments_Data.csv\")\n"
     ]
    }
   ],
   "source": [
    "import pandas as pd\n",
    "\n",
    "df = pd.read_csv(\"Open_Payments_Data.csv\")\n",
    "\n",
    "# Display the first few rows of the DataFrame to confirm it loaded correctly\n",
    "\n",
    "print(df.head())\n"
   ]
  },
  {
   "cell_type": "code",
   "execution_count": null,
   "metadata": {},
   "outputs": [],
   "source": [
    "# List of columns you want to drop from the DataFrame\n",
    "columns_to_drop = ['Change_Type','Recipient_Primary_Business_Street_Address_Line1','Recipient_Primary_Business_Street_Address_Line2',\n",
    "                   'Recipient_Zip_Code','Covered_Recipient_Name_Suffix','Covered_Recipient_NPI','Covered_Recipient_Profile_ID',\n",
    "    'Teaching_Hospital_CCN', 'Teaching_Hospital_ID', 'Teaching_Hospital_Name'\n",
    "    , 'Recipient_Postal_Code',\n",
    "    'Covered_Recipient_Primary_Type_2', 'Covered_Recipient_Primary_Type_3',\n",
    "    'Covered_Recipient_Primary_Type_4', 'Covered_Recipient_Primary_Type_5',\n",
    "    'Covered_Recipient_Primary_Type_6', 'Covered_Recipient_Specialty_2',\n",
    "    'Covered_Recipient_Specialty_3', 'Covered_Recipient_Specialty_4',\n",
    "    'Covered_Recipient_Specialty_5', 'Covered_Recipient_Specialty_6',\n",
    "    'Covered_Recipient_License_State_code2', 'Covered_Recipient_License_State_code3',\n",
    "    'Covered_Recipient_License_State_code4', 'Covered_Recipient_License_State_code5',\n",
    "    'Applicable_Manufacturer_or_Applicable_GPO_Making_Payment_ID','City_of_Travel','State_of_Travel', 'Country_of_Travel',\n",
    "    'Name_of_Third_Party_Entity_Receiving_Payment_or_Transfer_of_Value',\n",
    "    'Third_Party_Equals_Covered_Recipient_Indicator','Delay_in_Publication_Indicator',\n",
    "    'Record_ID','Name_of_Drug_or_Biological_or_Device_or_Medical_Supply_1',\n",
    "    'Name_of_Drug_or_Biological_or_Device_or_Medical_Supply_2','Name_of_Drug_or_Biological_or_Device_or_Medical_Supply_3',\n",
    "    'Name_of_Drug_or_Biological_or_Device_or_Medical_Supply_4','Name_of_Drug_or_Biological_or_Device_or_Medical_Supply_5',\n",
    "    'Associated_Drug_or_Biological_NDC_1', 'Associated_Drug_or_Biological_NDC_2',\n",
    "    'Associated_Drug_or_Biological_NDC_3', 'Associated_Drug_or_Biological_NDC_4',\n",
    "    'Associated_Drug_or_Biological_NDC_5', 'Associated_Device_or_Medical_Supply_PDI_1',\n",
    "    'Associated_Device_or_Medical_Supply_PDI_2', 'Associated_Device_or_Medical_Supply_PDI_3',\n",
    "    'Associated_Device_or_Medical_Supply_PDI_4', 'Associated_Device_or_Medical_Supply_PDI_5',\n",
    "    'Program_Year','Payment_Publication_Date'\n",
    "]\n",
    "\n",
    "# Drop these columns from the DataFrame\n",
    "df = df.drop(columns=columns_to_drop)\n",
    "columns_to_check = [\n",
    "    'Indicate_Drug_or_Biological_or_Device_or_Medical_Supply_1',\n",
    "    'Indicate_Drug_or_Biological_or_Device_or_Medical_Supply_2',\n",
    "    'Indicate_Drug_or_Biological_or_Device_or_Medical_Supply_3',\n",
    "    'Indicate_Drug_or_Biological_or_Device_or_Medical_Supply_4',\n",
    "    'Indicate_Drug_or_Biological_or_Device_or_Medical_Supply_5'\n",
    "]\n",
    "filtered_df = df[\n",
    "    df[columns_to_check].apply(lambda x: x.str.contains('Device', na=False)).any(axis=1)\n",
    "]\n",
    "\n",
    "# Define replacements in a dictionary\n",
    "replacements = {\n",
    "    'Alcon Vision LLC': 'Alcon Inc.',\n",
    "    'Alcon Puerto Rico Inc': 'Alcon Inc.',\n",
    "    'Alcon Research LLC': 'Alcon Inc.'\n",
    "}\n",
    "\n",
    "# Replace values in the DataFrame\n",
    "filtered_df['Submitting_Applicable_Manufacturer_or_Applicable_GPO_Name'] = filtered_df['Submitting_Applicable_Manufacturer_or_Applicable_GPO_Name'].replace(replacements)"
   ]
  }
 ],
 "metadata": {
  "kernelspec": {
   "display_name": "Python 3",
   "language": "python",
   "name": "python3"
  },
  "language_info": {
   "codemirror_mode": {
    "name": "ipython",
    "version": 3
   },
   "file_extension": ".py",
   "mimetype": "text/x-python",
   "name": "python",
   "nbconvert_exporter": "python",
   "pygments_lexer": "ipython3",
   "version": "3.11.5"
  },
  "orig_nbformat": 4
 },
 "nbformat": 4,
 "nbformat_minor": 2
}
