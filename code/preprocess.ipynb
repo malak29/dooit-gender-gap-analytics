{
  "cells": [
    {
      "cell_type": "code",
      "execution_count": 3,
      "metadata": {},
      "outputs": [
        {
          "name": "stdout",
          "output_type": "stream",
          "text": [
            "     FirstName     LastName  Gender  Country\n",
            "0    FirstName     LastName  Gender  Country\n",
            "1         Male          NaN     NaN       IN\n",
            "2  Kapil Kumar  Kapil Kumar       M       IN\n",
            "3       Mitali     Aggarwal       F       IN\n",
            "4        Vikas       Jangra     NaN       IN\n"
          ]
        }
      ],
      "source": [
        "import pandas as pd\n",
        "\n",
        "data = pd.read_csv('IN1.csv', header=None) \n",
        "\n",
        "data.columns = ['FirstName', 'LastName', 'Gender', 'Country']\n",
        "\n",
        "print(data.head())\n",
        "\n",
        "data.to_csv('IN1.csv', index=False)\n"
      ]
    }
  ],
  "metadata": {
    "colab": {
      "authorship_tag": "ABX9TyOP6XrQACW8wiKeD3LZXQpP",
      "include_colab_link": true,
      "provenance": []
    },
    "kernelspec": {
      "display_name": "Python 3",
      "name": "python3"
    },
    "language_info": {
      "codemirror_mode": {
        "name": "ipython",
        "version": 3
      },
      "file_extension": ".py",
      "mimetype": "text/x-python",
      "name": "python",
      "nbconvert_exporter": "python",
      "pygments_lexer": "ipython3",
      "version": "3.11.5"
    }
  },
  "nbformat": 4,
  "nbformat_minor": 0
}
